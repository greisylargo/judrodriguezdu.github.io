{
  "nbformat": 4,
  "nbformat_minor": 0,
  "metadata": {
    "colab": {
      "name": "CIFAR-Deeplearning.ipynb",
      "provenance": [],
      "authorship_tag": "ABX9TyP31t19F2+axq/9l1QU85Y0",
      "include_colab_link": true
    },
    "kernelspec": {
      "name": "python3",
      "display_name": "Python 3"
    }
  },
  "cells": [
    {
      "cell_type": "markdown",
      "metadata": {
        "id": "view-in-github",
        "colab_type": "text"
      },
      "source": [
        "<a href=\"https://colab.research.google.com/github/judrodriguezdu/judrodriguezdu.github.io/blob/main/CIFAR_Deeplearning.ipynb\" target=\"_parent\"><img src=\"https://colab.research.google.com/assets/colab-badge.svg\" alt=\"Open In Colab\"/></a>"
      ]
    },
    {
      "cell_type": "code",
      "metadata": {
        "id": "l-bcMTrFx1xs"
      },
      "source": [
        "#Se importan las liberias necesarias\r\n",
        "import tensorflow as tf\r\n",
        "from tensorflow.keras import datasets, layers, models\r\n",
        "import matplotlib.pyplot as plt\r\n",
        "import numpy as np"
      ],
      "execution_count": 1,
      "outputs": []
    },
    {
      "cell_type": "code",
      "metadata": {
        "colab": {
          "base_uri": "https://localhost:8080/"
        },
        "id": "2V1-mIPS0inW",
        "outputId": "1df41dfc-11de-429e-9b16-7e195c7e31d8"
      },
      "source": [
        "#Se descarga el dataset y se valida la cantidad de imagenes en el conjunto de entrenamiento y prueba\r\n",
        "(X_train, y_train), (X_test, y_test) = datasets.cifar10.load_data()\r\n",
        "X_train.shape"
      ],
      "execution_count": 2,
      "outputs": [
        {
          "output_type": "stream",
          "text": [
            "Downloading data from https://www.cs.toronto.edu/~kriz/cifar-10-python.tar.gz\n",
            "170500096/170498071 [==============================] - 2s 0us/step\n"
          ],
          "name": "stdout"
        },
        {
          "output_type": "execute_result",
          "data": {
            "text/plain": [
              "(50000, 32, 32, 3)"
            ]
          },
          "metadata": {
            "tags": []
          },
          "execution_count": 2
        }
      ]
    },
    {
      "cell_type": "code",
      "metadata": {
        "colab": {
          "base_uri": "https://localhost:8080/"
        },
        "id": "SR2ipXLJ06RF",
        "outputId": "4b982ec5-4e68-4c7b-eb32-ec7911351e59"
      },
      "source": [
        "X_test.shape"
      ],
      "execution_count": 3,
      "outputs": [
        {
          "output_type": "execute_result",
          "data": {
            "text/plain": [
              "(10000, 32, 32, 3)"
            ]
          },
          "metadata": {
            "tags": []
          },
          "execution_count": 3
        }
      ]
    },
    {
      "cell_type": "code",
      "metadata": {
        "colab": {
          "base_uri": "https://localhost:8080/"
        },
        "id": "hvu5EO0C2pvV",
        "outputId": "7ebdd38e-60be-44d9-fe9c-348dd9d39d4e"
      },
      "source": [
        "y_train = y_train.reshape(-1,)\r\n",
        "y_train[:5]"
      ],
      "execution_count": 4,
      "outputs": [
        {
          "output_type": "execute_result",
          "data": {
            "text/plain": [
              "array([6, 9, 9, 4, 1], dtype=uint8)"
            ]
          },
          "metadata": {
            "tags": []
          },
          "execution_count": 4
        }
      ]
    },
    {
      "cell_type": "code",
      "metadata": {
        "id": "f-KfLmrE1y8x"
      },
      "source": [
        "#Se definen las clases de las etiquetas\r\n",
        "classes = [\"avion\", \"carro\", \"pajaro\", \"gato\", \"venado\", \"perro\", \"sapo\", \"caballo\", \"barco\", \"camion\"]"
      ],
      "execution_count": 5,
      "outputs": []
    },
    {
      "cell_type": "code",
      "metadata": {
        "id": "6LKVRYyt0_Vl"
      },
      "source": [
        "# Se define una función para visualizar la imagen deseada de acuerod al index\r\n",
        "def plot_ejemplo(X, y, index):\r\n",
        "  plt.figure(figsize=(10,2))\r\n",
        "  plt.imshow(X[index])\r\n",
        "  plt.xlabel(classes[y[index]])"
      ],
      "execution_count": 6,
      "outputs": []
    },
    {
      "cell_type": "code",
      "metadata": {
        "colab": {
          "base_uri": "https://localhost:8080/",
          "height": 173
        },
        "id": "sYfC1oUq1GQE",
        "outputId": "1682106b-9cc7-483f-bf57-4ff8156029bb"
      },
      "source": [
        "plot_ejemplo(X_train, y_train, 30000)"
      ],
      "execution_count": 7,
      "outputs": [
        {
          "output_type": "display_data",
          "data": {
            "image/png": "[encoded data removed]",
            "text/plain": [
              "<Figure size 720x144 with 1 Axes>"
            ]
          },
          "metadata": {
            "tags": [],
            "needs_background": "light"
          }
        }
      ]
    },
    {
      "cell_type": "code",
      "metadata": {
        "colab": {
          "base_uri": "https://localhost:8080/",
          "height": 173
        },
        "id": "-7C2XdGh3KaR",
        "outputId": "b4ba4911-1d2c-47c2-95cb-c7215f856ec9"
      },
      "source": [
        "plot_ejemplo(X_train, y_train, 45000)"
      ],
      "execution_count": 8,
      "outputs": [
        {
          "output_type": "display_data",
          "data": {
            "image/png": "[encoded data removed]",
            "text/plain": [
              "<Figure size 720x144 with 1 Axes>"
            ]
          },
          "metadata": {
            "tags": [],
            "needs_background": "light"
          }
        }
      ]
    },
    {
      "cell_type": "code",
      "metadata": {
        "id": "Di0SqOyD3wGh"
      },
      "source": [
        "# Se normalizan las imágenes\r\n",
        "X_train = X_train / 255\r\n",
        "X_test = X_test / 255"
      ],
      "execution_count": 9,
      "outputs": []
    },
    {
      "cell_type": "code",
      "metadata": {
        "colab": {
          "base_uri": "https://localhost:8080/"
        },
        "id": "a3vM0A3W4zIu",
        "outputId": "6c14c0bc-1ff0-419b-8a06-26b6de2b452e"
      },
      "source": [
        "# se crea el modelo simple de redes neuronales artificiales\r\n",
        "\r\n",
        "modelo = models.Sequential([\r\n",
        "         layers.Flatten(input_shape=(32,32,3)),\r\n",
        "         layers.Dense(3000, activation=\"relu\"),\r\n",
        "         layers.Dense(1000, activation=\"relu\"),\r\n",
        "         layers.Dense(10, activation=\"sigmoid\")                  \r\n",
        "      ])\r\n",
        "\r\n",
        "modelo.compile(optimizer=\"SGD\", \r\n",
        "               loss=\"sparse_categorical_crossentropy\", \r\n",
        "               metrics=[\"accuracy\"])\r\n",
        "\r\n",
        "modelo.fit(X_train, y_train, epochs=10)"
      ],
      "execution_count": 10,
      "outputs": [
        {
          "output_type": "stream",
          "text": [
            "Epoch 1/10\n",
            "1563/1563 [==============================] - 106s 68ms/step - loss: 1.9251 - accuracy: 0.3065\n",
            "Epoch 2/10\n",
            "1563/1563 [==============================] - 104s 66ms/step - loss: 1.6469 - accuracy: 0.4188\n",
            "Epoch 3/10\n",
            "1563/1563 [==============================] - 114s 73ms/step - loss: 1.5533 - accuracy: 0.4514\n",
            "Epoch 4/10\n",
            "1563/1563 [==============================] - 103s 66ms/step - loss: 1.4866 - accuracy: 0.4781\n",
            "Epoch 5/10\n",
            "1563/1563 [==============================] - 102s 65ms/step - loss: 1.4376 - accuracy: 0.4995\n",
            "Epoch 6/10\n",
            "1563/1563 [==============================] - 102s 65ms/step - loss: 1.3937 - accuracy: 0.5093\n",
            "Epoch 7/10\n",
            "1563/1563 [==============================] - 104s 66ms/step - loss: 1.3523 - accuracy: 0.5247\n",
            "Epoch 8/10\n",
            "1563/1563 [==============================] - 100s 64ms/step - loss: 1.3203 - accuracy: 0.5362\n",
            "Epoch 9/10\n",
            "1563/1563 [==============================] - 100s 64ms/step - loss: 1.2880 - accuracy: 0.5518\n",
            "Epoch 10/10\n",
            "1563/1563 [==============================] - 101s 64ms/step - loss: 1.2572 - accuracy: 0.5594\n"
          ],
          "name": "stdout"
        },
        {
          "output_type": "execute_result",
          "data": {
            "text/plain": [
              "<tensorflow.python.keras.callbacks.History at 0x7f4f8fbf1a58>"
            ]
          },
          "metadata": {
            "tags": []
          },
          "execution_count": 10
        }
      ]
    },
    {
      "cell_type": "code",
      "metadata": {
        "colab": {
          "base_uri": "https://localhost:8080/"
        },
        "id": "2KYUFCm_6R0T",
        "outputId": "86d07fc5-8eb7-4c21-f1bc-56225d26d1a8"
      },
      "source": [
        "modelo.evaluate(X_test, y_test)"
      ],
      "execution_count": 11,
      "outputs": [
        {
          "output_type": "stream",
          "text": [
            "313/313 [==============================] - 8s 24ms/step - loss: 1.3655 - accuracy: 0.5168\n"
          ],
          "name": "stdout"
        },
        {
          "output_type": "execute_result",
          "data": {
            "text/plain": [
              "[1.3654937744140625, 0.5167999863624573]"
            ]
          },
          "metadata": {
            "tags": []
          },
          "execution_count": 11
        }
      ]
    },
    {
      "cell_type": "code",
      "metadata": {
        "id": "M7ZhLv4b_2Y0",
        "colab": {
          "base_uri": "https://localhost:8080/"
        },
        "outputId": "01678ec6-9d80-450b-de9d-90976f037299"
      },
      "source": [
        "#Se saca el reporte de clasificación para analizar el desempeño para cada clase del modelo\r\n",
        "from sklearn.metrics import confusion_matrix, classification_report\r\n",
        "import numpy as np\r\n",
        "y_pred = modelo.predict(X_test)\r\n",
        "y_pred_classes = [np.argmax(element) for element in y_pred]\r\n",
        "\r\n",
        "print(\"Classification Report: \\n\", classification_report(y_test, y_pred_classes))"
      ],
      "execution_count": 12,
      "outputs": [
        {
          "output_type": "stream",
          "text": [
            "Classification Report: \n",
            "               precision    recall  f1-score   support\n",
            "\n",
            "           0       0.52      0.61      0.56      1000\n",
            "           1       0.65      0.64      0.65      1000\n",
            "           2       0.51      0.23      0.31      1000\n",
            "           3       0.35      0.42      0.38      1000\n",
            "           4       0.43      0.52      0.47      1000\n",
            "           5       0.49      0.30      0.37      1000\n",
            "           6       0.55      0.60      0.58      1000\n",
            "           7       0.71      0.49      0.58      1000\n",
            "           8       0.49      0.78      0.61      1000\n",
            "           9       0.55      0.59      0.57      1000\n",
            "\n",
            "    accuracy                           0.52     10000\n",
            "   macro avg       0.53      0.52      0.51     10000\n",
            "weighted avg       0.53      0.52      0.51     10000\n",
            "\n"
          ],
          "name": "stdout"
        }
      ]
    },
    {
      "cell_type": "code",
      "metadata": {
        "id": "FPc8cbEig4ye"
      },
      "source": [
        "cnn = models.Sequential([\r\n",
        "    \r\n",
        "        # cnn se utilizan dos capas \r\n",
        "        layers.Conv2D(filters=32, kernel_size=(3,3), activation=\"relu\", input_shape=(32,32,3)),\r\n",
        "        layers.MaxPooling2D((2,2)), \r\n",
        "        \r\n",
        "        layers.Conv2D(filters=64, kernel_size=(3,3), activation=\"relu\"),\r\n",
        "        layers.MaxPooling2D((2,2)), \r\n",
        "    \r\n",
        "        ## dense\r\n",
        "         layers.Flatten(),\r\n",
        "         layers.Dense(64, activation=\"relu\"),\r\n",
        "         layers.Dense(10, activation=\"softmax\"),                  \r\n",
        "      ])"
      ],
      "execution_count": 13,
      "outputs": []
    },
    {
      "cell_type": "code",
      "metadata": {
        "id": "jrT7lVjcg8XK"
      },
      "source": [
        "cnn.compile(optimizer=\"adam\", \r\n",
        "               loss=\"sparse_categorical_crossentropy\", \r\n",
        "               metrics=[\"accuracy\"])"
      ],
      "execution_count": 14,
      "outputs": []
    },
    {
      "cell_type": "code",
      "metadata": {
        "colab": {
          "base_uri": "https://localhost:8080/"
        },
        "id": "BjlPca3sg_Cm",
        "outputId": "d89fb1d2-4121-4663-ba51-5841e845eb79"
      },
      "source": [
        "cnn.fit(X_train, y_train, epochs=10)"
      ],
      "execution_count": 15,
      "outputs": [
        {
          "output_type": "stream",
          "text": [
            "Epoch 1/10\n",
            "1563/1563 [==============================] - 59s 38ms/step - loss: 1.7192 - accuracy: 0.3767\n",
            "Epoch 2/10\n",
            "1563/1563 [==============================] - 59s 38ms/step - loss: 1.1732 - accuracy: 0.5868\n",
            "Epoch 3/10\n",
            "1563/1563 [==============================] - 59s 38ms/step - loss: 1.0078 - accuracy: 0.6504\n",
            "Epoch 4/10\n",
            "1563/1563 [==============================] - 59s 38ms/step - loss: 0.9083 - accuracy: 0.6845\n",
            "Epoch 5/10\n",
            "1563/1563 [==============================] - 59s 37ms/step - loss: 0.8480 - accuracy: 0.7049\n",
            "Epoch 6/10\n",
            "1563/1563 [==============================] - 59s 37ms/step - loss: 0.7830 - accuracy: 0.7265\n",
            "Epoch 7/10\n",
            "1563/1563 [==============================] - 59s 38ms/step - loss: 0.7330 - accuracy: 0.7456\n",
            "Epoch 8/10\n",
            "1563/1563 [==============================] - 59s 38ms/step - loss: 0.6760 - accuracy: 0.7649\n",
            "Epoch 9/10\n",
            "1563/1563 [==============================] - 61s 39ms/step - loss: 0.6415 - accuracy: 0.7790\n",
            "Epoch 10/10\n",
            "1563/1563 [==============================] - 59s 38ms/step - loss: 0.5829 - accuracy: 0.7958\n"
          ],
          "name": "stdout"
        },
        {
          "output_type": "execute_result",
          "data": {
            "text/plain": [
              "<tensorflow.python.keras.callbacks.History at 0x7f4f4564d240>"
            ]
          },
          "metadata": {
            "tags": []
          },
          "execution_count": 15
        }
      ]
    },
    {
      "cell_type": "code",
      "metadata": {
        "colab": {
          "base_uri": "https://localhost:8080/"
        },
        "id": "W20T861uhDlG",
        "outputId": "6981206a-9c1f-4ca3-d800-9bbd4b3f90f5"
      },
      "source": [
        "cnn.evaluate(X_test, y_test)"
      ],
      "execution_count": 16,
      "outputs": [
        {
          "output_type": "stream",
          "text": [
            "313/313 [==============================] - 4s 12ms/step - loss: 0.9591 - accuracy: 0.6895\n"
          ],
          "name": "stdout"
        },
        {
          "output_type": "execute_result",
          "data": {
            "text/plain": [
              "[0.9590879082679749, 0.6894999742507935]"
            ]
          },
          "metadata": {
            "tags": []
          },
          "execution_count": 16
        }
      ]
    },
    {
      "cell_type": "code",
      "metadata": {
        "colab": {
          "base_uri": "https://localhost:8080/"
        },
        "id": "I-TxM5MxhGId",
        "outputId": "bc1c5684-22cd-4c47-e412-06461e48b05c"
      },
      "source": [
        "y_test = y_test.reshape(-1,)\r\n",
        "y_test[:5]"
      ],
      "execution_count": 17,
      "outputs": [
        {
          "output_type": "execute_result",
          "data": {
            "text/plain": [
              "array([3, 8, 8, 0, 6], dtype=uint8)"
            ]
          },
          "metadata": {
            "tags": []
          },
          "execution_count": 17
        }
      ]
    },
    {
      "cell_type": "code",
      "metadata": {
        "colab": {
          "base_uri": "https://localhost:8080/"
        },
        "id": "UmmkAoRxhIFb",
        "outputId": "9248e58c-1610-4839-aaf4-e83cd8fffffe"
      },
      "source": [
        "y_pred = cnn.predict(X_test)\r\n",
        "y_pred[:5]"
      ],
      "execution_count": 18,
      "outputs": [
        {
          "output_type": "execute_result",
          "data": {
            "text/plain": [
              "array([[6.7240964e-03, 1.3572002e-05, 7.0711691e-04, 7.2916991e-01,\n",
              "        9.9648791e-04, 2.3794781e-01, 2.3829246e-02, 4.9396692e-04,\n",
              "        1.8335077e-05, 9.9494187e-05],\n",
              "       [2.9195467e-04, 7.4289434e-02, 2.0131149e-06, 2.3015151e-08,\n",
              "        1.3574461e-06, 6.7718711e-09, 2.6300613e-09, 3.7563268e-08,\n",
              "        9.2541456e-01, 6.8031102e-07],\n",
              "       [1.1954311e-01, 5.8614486e-01, 6.1897575e-03, 6.5356325e-03,\n",
              "        3.1980881e-03, 4.1152551e-03, 2.9352317e-03, 8.8665532e-03,\n",
              "        2.4349938e-01, 1.8972171e-02],\n",
              "       [3.8029185e-01, 2.5633430e-01, 1.6597806e-01, 7.3136459e-03,\n",
              "        2.3088511e-03, 2.8280370e-04, 2.6528123e-03, 1.0838130e-03,\n",
              "        1.8309072e-01, 6.6315342e-04],\n",
              "       [3.9552533e-06, 5.7007978e-06, 1.6684668e-03, 1.0461929e-03,\n",
              "        6.7215845e-02, 1.1994386e-05, 9.3004513e-01, 7.0581359e-07,\n",
              "        1.9584891e-06, 3.7566124e-08]], dtype=float32)"
            ]
          },
          "metadata": {
            "tags": []
          },
          "execution_count": 18
        }
      ]
    },
    {
      "cell_type": "code",
      "metadata": {
        "colab": {
          "base_uri": "https://localhost:8080/"
        },
        "id": "3_sxSRzahKUk",
        "outputId": "d2beb3ff-cf7d-4c28-834e-39fbaca61f50"
      },
      "source": [
        "y_classes = [np.argmax(element) for element in y_pred]\r\n",
        "y_classes[:5]"
      ],
      "execution_count": 19,
      "outputs": [
        {
          "output_type": "execute_result",
          "data": {
            "text/plain": [
              "[3, 8, 1, 0, 6]"
            ]
          },
          "metadata": {
            "tags": []
          },
          "execution_count": 19
        }
      ]
    },
    {
      "cell_type": "code",
      "metadata": {
        "colab": {
          "base_uri": "https://localhost:8080/"
        },
        "id": "PAOGb75RhMM9",
        "outputId": "07d1cd8b-19ab-4fec-920d-ee86aefb2644"
      },
      "source": [
        "y_test[:5]"
      ],
      "execution_count": 20,
      "outputs": [
        {
          "output_type": "execute_result",
          "data": {
            "text/plain": [
              "array([3, 8, 8, 0, 6], dtype=uint8)"
            ]
          },
          "metadata": {
            "tags": []
          },
          "execution_count": 20
        }
      ]
    },
    {
      "cell_type": "code",
      "metadata": {
        "colab": {
          "base_uri": "https://localhost:8080/",
          "height": 173
        },
        "id": "v_0r7PFHhUUO",
        "outputId": "3a006a23-ef18-4343-8ef2-8f8f553d1afb"
      },
      "source": [
        "#Un ejemplo de predicción\r\n",
        "plot_ejemplo(X_test, y_test,3)"
      ],
      "execution_count": 21,
      "outputs": [
        {
          "output_type": "display_data",
          "data": {
            "image/png": "[encoded data removed]",
            "text/plain": [
              "<Figure size 720x144 with 1 Axes>"
            ]
          },
          "metadata": {
            "tags": [],
            "needs_background": "light"
          }
        }
      ]
    },
    {
      "cell_type": "code",
      "metadata": {
        "colab": {
          "base_uri": "https://localhost:8080/",
          "height": 35
        },
        "id": "gMe81U7HhWfb",
        "outputId": "ecc80af7-24aa-4c95-f201-2d70760c220c"
      },
      "source": [
        "classes[y_classes[3]]"
      ],
      "execution_count": 22,
      "outputs": [
        {
          "output_type": "execute_result",
          "data": {
            "application/vnd.google.colaboratory.intrinsic+json": {
              "type": "string"
            },
            "text/plain": [
              "'avion'"
            ]
          },
          "metadata": {
            "tags": []
          },
          "execution_count": 22
        }
      ]
    },
    {
      "cell_type": "code",
      "metadata": {
        "colab": {
          "base_uri": "https://localhost:8080/"
        },
        "id": "PZsIKzDShYv9",
        "outputId": "ce41c568-c859-4aac-8c33-1c91369292f3"
      },
      "source": [
        "print(\"Classification Report: \\n\", classification_report(y_test, y_classes))"
      ],
      "execution_count": 23,
      "outputs": [
        {
          "output_type": "stream",
          "text": [
            "Classification Report: \n",
            "               precision    recall  f1-score   support\n",
            "\n",
            "           0       0.71      0.79      0.75      1000\n",
            "           1       0.77      0.83      0.80      1000\n",
            "           2       0.62      0.59      0.60      1000\n",
            "           3       0.56      0.41      0.47      1000\n",
            "           4       0.59      0.66      0.62      1000\n",
            "           5       0.64      0.58      0.61      1000\n",
            "           6       0.68      0.85      0.75      1000\n",
            "           7       0.64      0.79      0.71      1000\n",
            "           8       0.90      0.70      0.79      1000\n",
            "           9       0.83      0.70      0.76      1000\n",
            "\n",
            "    accuracy                           0.69     10000\n",
            "   macro avg       0.69      0.69      0.69     10000\n",
            "weighted avg       0.69      0.69      0.69     10000\n",
            "\n"
          ],
          "name": "stdout"
        }
      ]
    },
    {
      "cell_type": "code",
      "metadata": {
        "id": "zk91WmS2lfyc"
      },
      "source": [
        ""
      ],
      "execution_count": null,
      "outputs": []
    }
  ]
}